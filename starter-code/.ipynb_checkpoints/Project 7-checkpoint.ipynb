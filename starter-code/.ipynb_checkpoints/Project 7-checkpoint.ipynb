{
 "cells": [
  {
   "cell_type": "markdown",
   "metadata": {},
   "source": [
    "# Loading and Looking at theData"
   ]
  },
  {
   "cell_type": "code",
   "execution_count": 799,
   "metadata": {
    "collapsed": false
   },
   "outputs": [],
   "source": [
    "import pandas as pd\n",
    "from sklearn.feature_extraction.text import CountVectorizer, TfidfVectorizer\n",
    "from sklearn.decomposition import PCA, TruncatedSVD\n",
    "from matplotlib import pyplot as plt\n",
    "from sklearn.preprocessing import StandardScaler\n",
    "from sklearn.cluster import KMeans\n",
    "import seaborn as sns\n",
    "from sklearn.metrics import confusion_matrix, classification_report, homogeneity_score, adjusted_rand_score\n",
    "from sklearn.preprocessing import LabelEncoder\n",
    "from sklearn.cluster import AgglomerativeClustering\n",
    "from sklearn.linear_model import LogisticRegression\n",
    "from sklearn.model_selection import train_test_split, GridSearchCV\n",
    "from sklearn.feature_selection import SelectKBest, f_classif\n",
    "from sklearn.feature_extraction import text\n",
    "import numpy as np\n",
    "%matplotlib inline"
   ]
  },
  {
   "cell_type": "code",
   "execution_count": 800,
   "metadata": {
    "collapsed": true
   },
   "outputs": [],
   "source": [
    "df = pd.read_csv('Tweets.csv')"
   ]
  },
  {
   "cell_type": "code",
   "execution_count": 801,
   "metadata": {
    "collapsed": false
   },
   "outputs": [
    {
     "data": {
      "text/plain": [
       "negative    9178\n",
       "neutral     3099\n",
       "positive    2363\n",
       "Name: airline_sentiment, dtype: int64"
      ]
     },
     "execution_count": 801,
     "metadata": {},
     "output_type": "execute_result"
    }
   ],
   "source": [
    "df['airline_sentiment'].value_counts()"
   ]
  },
  {
   "cell_type": "code",
   "execution_count": 802,
   "metadata": {
    "collapsed": false
   },
   "outputs": [
    {
     "name": "stdout",
     "output_type": "stream",
     "text": [
      "<class 'pandas.core.frame.DataFrame'>\n",
      "RangeIndex: 14640 entries, 0 to 14639\n",
      "Data columns (total 15 columns):\n",
      "tweet_id                        14640 non-null int64\n",
      "airline_sentiment               14640 non-null object\n",
      "airline_sentiment_confidence    14640 non-null float64\n",
      "negativereason                  9178 non-null object\n",
      "negativereason_confidence       10522 non-null float64\n",
      "airline                         14640 non-null object\n",
      "airline_sentiment_gold          40 non-null object\n",
      "name                            14640 non-null object\n",
      "negativereason_gold             32 non-null object\n",
      "retweet_count                   14640 non-null int64\n",
      "text                            14640 non-null object\n",
      "tweet_coord                     1019 non-null object\n",
      "tweet_created                   14640 non-null object\n",
      "tweet_location                  9907 non-null object\n",
      "user_timezone                   9820 non-null object\n",
      "dtypes: float64(2), int64(2), object(11)\n",
      "memory usage: 1.7+ MB\n"
     ]
    }
   ],
   "source": [
    "df.info()"
   ]
  },
  {
   "cell_type": "code",
   "execution_count": 803,
   "metadata": {
    "collapsed": false
   },
   "outputs": [
    {
     "data": {
      "text/html": [
       "<div>\n",
       "<table border=\"1\" class=\"dataframe\">\n",
       "  <thead>\n",
       "    <tr style=\"text-align: right;\">\n",
       "      <th></th>\n",
       "      <th>tweet_id</th>\n",
       "      <th>airline_sentiment</th>\n",
       "      <th>airline_sentiment_confidence</th>\n",
       "      <th>negativereason</th>\n",
       "      <th>negativereason_confidence</th>\n",
       "      <th>airline</th>\n",
       "      <th>airline_sentiment_gold</th>\n",
       "      <th>name</th>\n",
       "      <th>negativereason_gold</th>\n",
       "      <th>retweet_count</th>\n",
       "      <th>text</th>\n",
       "      <th>tweet_coord</th>\n",
       "      <th>tweet_created</th>\n",
       "      <th>tweet_location</th>\n",
       "      <th>user_timezone</th>\n",
       "    </tr>\n",
       "  </thead>\n",
       "  <tbody>\n",
       "    <tr>\n",
       "      <th>0</th>\n",
       "      <td>570306133677760513</td>\n",
       "      <td>neutral</td>\n",
       "      <td>1.0000</td>\n",
       "      <td>NaN</td>\n",
       "      <td>NaN</td>\n",
       "      <td>Virgin America</td>\n",
       "      <td>NaN</td>\n",
       "      <td>cairdin</td>\n",
       "      <td>NaN</td>\n",
       "      <td>0</td>\n",
       "      <td>@VirginAmerica What @dhepburn said.</td>\n",
       "      <td>NaN</td>\n",
       "      <td>2015-02-24 11:35:52 -0800</td>\n",
       "      <td>NaN</td>\n",
       "      <td>Eastern Time (US &amp; Canada)</td>\n",
       "    </tr>\n",
       "    <tr>\n",
       "      <th>1</th>\n",
       "      <td>570301130888122368</td>\n",
       "      <td>positive</td>\n",
       "      <td>0.3486</td>\n",
       "      <td>NaN</td>\n",
       "      <td>0.0000</td>\n",
       "      <td>Virgin America</td>\n",
       "      <td>NaN</td>\n",
       "      <td>jnardino</td>\n",
       "      <td>NaN</td>\n",
       "      <td>0</td>\n",
       "      <td>@VirginAmerica plus you've added commercials t...</td>\n",
       "      <td>NaN</td>\n",
       "      <td>2015-02-24 11:15:59 -0800</td>\n",
       "      <td>NaN</td>\n",
       "      <td>Pacific Time (US &amp; Canada)</td>\n",
       "    </tr>\n",
       "    <tr>\n",
       "      <th>2</th>\n",
       "      <td>570301083672813571</td>\n",
       "      <td>neutral</td>\n",
       "      <td>0.6837</td>\n",
       "      <td>NaN</td>\n",
       "      <td>NaN</td>\n",
       "      <td>Virgin America</td>\n",
       "      <td>NaN</td>\n",
       "      <td>yvonnalynn</td>\n",
       "      <td>NaN</td>\n",
       "      <td>0</td>\n",
       "      <td>@VirginAmerica I didn't today... Must mean I n...</td>\n",
       "      <td>NaN</td>\n",
       "      <td>2015-02-24 11:15:48 -0800</td>\n",
       "      <td>Lets Play</td>\n",
       "      <td>Central Time (US &amp; Canada)</td>\n",
       "    </tr>\n",
       "    <tr>\n",
       "      <th>3</th>\n",
       "      <td>570301031407624196</td>\n",
       "      <td>negative</td>\n",
       "      <td>1.0000</td>\n",
       "      <td>Bad Flight</td>\n",
       "      <td>0.7033</td>\n",
       "      <td>Virgin America</td>\n",
       "      <td>NaN</td>\n",
       "      <td>jnardino</td>\n",
       "      <td>NaN</td>\n",
       "      <td>0</td>\n",
       "      <td>@VirginAmerica it's really aggressive to blast...</td>\n",
       "      <td>NaN</td>\n",
       "      <td>2015-02-24 11:15:36 -0800</td>\n",
       "      <td>NaN</td>\n",
       "      <td>Pacific Time (US &amp; Canada)</td>\n",
       "    </tr>\n",
       "    <tr>\n",
       "      <th>4</th>\n",
       "      <td>570300817074462722</td>\n",
       "      <td>negative</td>\n",
       "      <td>1.0000</td>\n",
       "      <td>Can't Tell</td>\n",
       "      <td>1.0000</td>\n",
       "      <td>Virgin America</td>\n",
       "      <td>NaN</td>\n",
       "      <td>jnardino</td>\n",
       "      <td>NaN</td>\n",
       "      <td>0</td>\n",
       "      <td>@VirginAmerica and it's a really big bad thing...</td>\n",
       "      <td>NaN</td>\n",
       "      <td>2015-02-24 11:14:45 -0800</td>\n",
       "      <td>NaN</td>\n",
       "      <td>Pacific Time (US &amp; Canada)</td>\n",
       "    </tr>\n",
       "  </tbody>\n",
       "</table>\n",
       "</div>"
      ],
      "text/plain": [
       "             tweet_id airline_sentiment  airline_sentiment_confidence  \\\n",
       "0  570306133677760513           neutral                        1.0000   \n",
       "1  570301130888122368          positive                        0.3486   \n",
       "2  570301083672813571           neutral                        0.6837   \n",
       "3  570301031407624196          negative                        1.0000   \n",
       "4  570300817074462722          negative                        1.0000   \n",
       "\n",
       "  negativereason  negativereason_confidence         airline  \\\n",
       "0            NaN                        NaN  Virgin America   \n",
       "1            NaN                     0.0000  Virgin America   \n",
       "2            NaN                        NaN  Virgin America   \n",
       "3     Bad Flight                     0.7033  Virgin America   \n",
       "4     Can't Tell                     1.0000  Virgin America   \n",
       "\n",
       "  airline_sentiment_gold        name negativereason_gold  retweet_count  \\\n",
       "0                    NaN     cairdin                 NaN              0   \n",
       "1                    NaN    jnardino                 NaN              0   \n",
       "2                    NaN  yvonnalynn                 NaN              0   \n",
       "3                    NaN    jnardino                 NaN              0   \n",
       "4                    NaN    jnardino                 NaN              0   \n",
       "\n",
       "                                                text tweet_coord  \\\n",
       "0                @VirginAmerica What @dhepburn said.         NaN   \n",
       "1  @VirginAmerica plus you've added commercials t...         NaN   \n",
       "2  @VirginAmerica I didn't today... Must mean I n...         NaN   \n",
       "3  @VirginAmerica it's really aggressive to blast...         NaN   \n",
       "4  @VirginAmerica and it's a really big bad thing...         NaN   \n",
       "\n",
       "               tweet_created tweet_location               user_timezone  \n",
       "0  2015-02-24 11:35:52 -0800            NaN  Eastern Time (US & Canada)  \n",
       "1  2015-02-24 11:15:59 -0800            NaN  Pacific Time (US & Canada)  \n",
       "2  2015-02-24 11:15:48 -0800      Lets Play  Central Time (US & Canada)  \n",
       "3  2015-02-24 11:15:36 -0800            NaN  Pacific Time (US & Canada)  \n",
       "4  2015-02-24 11:14:45 -0800            NaN  Pacific Time (US & Canada)  "
      ]
     },
     "execution_count": 803,
     "metadata": {},
     "output_type": "execute_result"
    }
   ],
   "source": [
    "df.head()"
   ]
  },
  {
   "cell_type": "code",
   "execution_count": 804,
   "metadata": {
    "collapsed": false
   },
   "outputs": [
    {
     "data": {
      "text/plain": [
       "Customer Service Issue         2910\n",
       "Late Flight                    1665\n",
       "Can't Tell                     1190\n",
       "Cancelled Flight                847\n",
       "Lost Luggage                    724\n",
       "Bad Flight                      580\n",
       "Flight Booking Problems         529\n",
       "Flight Attendant Complaints     481\n",
       "longlines                       178\n",
       "Damaged Luggage                  74\n",
       "Name: negativereason, dtype: int64"
      ]
     },
     "execution_count": 804,
     "metadata": {},
     "output_type": "execute_result"
    }
   ],
   "source": [
    "df['negativereason'].value_counts()"
   ]
  },
  {
   "cell_type": "code",
   "execution_count": 805,
   "metadata": {
    "collapsed": false
   },
   "outputs": [
    {
     "data": {
      "text/plain": [
       "array(['Virgin America', 'United', 'Southwest', 'Delta', 'US Airways',\n",
       "       'American'], dtype=object)"
      ]
     },
     "execution_count": 805,
     "metadata": {},
     "output_type": "execute_result"
    }
   ],
   "source": [
    "df['airline'].unique()"
   ]
  },
  {
   "cell_type": "markdown",
   "metadata": {},
   "source": [
    "# Clean the Data"
   ]
  },
  {
   "cell_type": "code",
   "execution_count": 806,
   "metadata": {
    "collapsed": false
   },
   "outputs": [],
   "source": [
    "# Drop rows with too many nans\n",
    "\n",
    "df = df.drop(['airline_sentiment_gold', 'negativereason_gold'], axis=1)"
   ]
  },
  {
   "cell_type": "code",
   "execution_count": 807,
   "metadata": {
    "collapsed": false
   },
   "outputs": [
    {
     "name": "stdout",
     "output_type": "stream",
     "text": [
      "The baseline is 0.626912568306\n"
     ]
    }
   ],
   "source": [
    "print 'The baseline is', 9178.0 / (9178 + 3099 + 2363)"
   ]
  },
  {
   "cell_type": "markdown",
   "metadata": {},
   "source": [
    "# Log Reg?"
   ]
  },
  {
   "cell_type": "code",
   "execution_count": 808,
   "metadata": {
    "collapsed": false
   },
   "outputs": [],
   "source": [
    "le = LabelEncoder()\n",
    "y = le.fit_transform(df['airline_sentiment'])\n",
    "\n",
    "X_train, X_test, y_train, y_test = train_test_split(df['text'], y, stratify=y, test_size=0.33, random_state=42)\n",
    "\n"
   ]
  },
  {
   "cell_type": "code",
   "execution_count": 809,
   "metadata": {
    "collapsed": true
   },
   "outputs": [],
   "source": [
    "mine = ['virginamerica', 'americanair','united', 'southwest', 'southwestair', 'delta', 'usairways','american']\n",
    "\n",
    "tfv = TfidfVectorizer(stop_words=text.ENGLISH_STOP_WORDS.union(mine),\n",
    "                      token_pattern='[a-zA-Z]{3,50}',ngram_range=(1,3), min_df=2, max_df=0.8, sublinear_tf=True)\n",
    "tfv.fit(df['text'])\n",
    "XX_train = tfv.transform(X_train)\n",
    "XX_test = tfv.transform(X_test)\n",
    "XX_all = tfv.transform(df['text'])"
   ]
  },
  {
   "cell_type": "code",
   "execution_count": 810,
   "metadata": {
    "collapsed": false
   },
   "outputs": [
    {
     "data": {
      "text/plain": [
       "{'C': 10.0}"
      ]
     },
     "execution_count": 810,
     "metadata": {},
     "output_type": "execute_result"
    }
   ],
   "source": [
    "lr = LogisticRegression(multi_class='multinomial', solver='sag', random_state=42)\n",
    "gs = GridSearchCV(lr, param_grid={'C':[0.0001,0.001,0.01,0.1,1.0,10.0,100.0,1000.0]}, cv=5)\n",
    "gs.fit(XX_train, y_train)\n",
    "gs.best_params_"
   ]
  },
  {
   "cell_type": "code",
   "execution_count": 811,
   "metadata": {
    "collapsed": false
   },
   "outputs": [
    {
     "data": {
      "text/plain": [
       "LogisticRegression(C=10.0, class_weight=None, dual=False, fit_intercept=True,\n",
       "          intercept_scaling=1, max_iter=100, multi_class='multinomial',\n",
       "          n_jobs=1, penalty='l2', random_state=42, solver='sag',\n",
       "          tol=0.0001, verbose=0, warm_start=False)"
      ]
     },
     "execution_count": 811,
     "metadata": {},
     "output_type": "execute_result"
    }
   ],
   "source": [
    "lr = LogisticRegression(C=10.0, multi_class='multinomial', solver='sag', random_state=42)\n",
    "lr.fit(XX_train, y_train)"
   ]
  },
  {
   "cell_type": "code",
   "execution_count": 812,
   "metadata": {
    "collapsed": false
   },
   "outputs": [],
   "source": [
    "coefs = pd.DataFrame(lr.coef_)\n",
    "coefs.columns = tfv.vocabulary_\n",
    "coefs\n",
    "dicty = {}\n",
    "for i in coefs:\n",
    "    dicty[i] = [sum(abs(coefs[i]))]\n",
    "dicty\n",
    "from operator import itemgetter\n",
    "log_reg_imp = sorted(dicty.items(), key=itemgetter(1), reverse=True)"
   ]
  },
  {
   "cell_type": "code",
   "execution_count": 813,
   "metadata": {
    "collapsed": false,
    "scrolled": true
   },
   "outputs": [
    {
     "data": {
      "text/html": [
       "<div>\n",
       "<table border=\"1\" class=\"dataframe\">\n",
       "  <thead>\n",
       "    <tr style=\"text-align: right;\">\n",
       "      <th></th>\n",
       "      <th>shows delayed</th>\n",
       "      <th>issues given bonus</th>\n",
       "      <th>airline world</th>\n",
       "      <th>caned</th>\n",
       "      <th>screaming</th>\n",
       "      <th>wednesday</th>\n",
       "      <th>hanging</th>\n",
       "      <th>donate http</th>\n",
       "      <th>maatkare hope</th>\n",
       "      <th>kids</th>\n",
       "      <th>...</th>\n",
       "      <th>weather humor</th>\n",
       "      <th>fantastic customer service</th>\n",
       "      <th>getting</th>\n",
       "      <th>disorganized</th>\n",
       "      <th>delay voucher</th>\n",
       "      <th>paid extra</th>\n",
       "      <th>really need better</th>\n",
       "      <th>sick</th>\n",
       "      <th>gas</th>\n",
       "      <th>hours time worth</th>\n",
       "    </tr>\n",
       "  </thead>\n",
       "  <tbody>\n",
       "    <tr>\n",
       "      <th>0</th>\n",
       "      <td>0.175077</td>\n",
       "      <td>0.175077</td>\n",
       "      <td>-1.242715</td>\n",
       "      <td>-0.38485</td>\n",
       "      <td>0.093332</td>\n",
       "      <td>0.186102</td>\n",
       "      <td>0.119168</td>\n",
       "      <td>0.0</td>\n",
       "      <td>0.871001</td>\n",
       "      <td>-1.322204</td>\n",
       "      <td>...</td>\n",
       "      <td>0.427399</td>\n",
       "      <td>0.427399</td>\n",
       "      <td>1.143045</td>\n",
       "      <td>0.397457</td>\n",
       "      <td>-1.064725</td>\n",
       "      <td>-0.075797</td>\n",
       "      <td>-0.075797</td>\n",
       "      <td>0.548283</td>\n",
       "      <td>-0.507413</td>\n",
       "      <td>1.371559</td>\n",
       "    </tr>\n",
       "    <tr>\n",
       "      <th>1</th>\n",
       "      <td>-0.118417</td>\n",
       "      <td>-0.118417</td>\n",
       "      <td>1.532162</td>\n",
       "      <td>0.51623</td>\n",
       "      <td>-0.083093</td>\n",
       "      <td>-0.119380</td>\n",
       "      <td>-0.076588</td>\n",
       "      <td>0.0</td>\n",
       "      <td>-0.303690</td>\n",
       "      <td>-0.706661</td>\n",
       "      <td>...</td>\n",
       "      <td>-0.310717</td>\n",
       "      <td>-0.310717</td>\n",
       "      <td>-0.558017</td>\n",
       "      <td>-0.212276</td>\n",
       "      <td>0.487625</td>\n",
       "      <td>0.265625</td>\n",
       "      <td>0.265625</td>\n",
       "      <td>-0.421632</td>\n",
       "      <td>0.631696</td>\n",
       "      <td>-0.868670</td>\n",
       "    </tr>\n",
       "    <tr>\n",
       "      <th>2</th>\n",
       "      <td>-0.056661</td>\n",
       "      <td>-0.056661</td>\n",
       "      <td>-0.289447</td>\n",
       "      <td>-0.13138</td>\n",
       "      <td>-0.010239</td>\n",
       "      <td>-0.066722</td>\n",
       "      <td>-0.042580</td>\n",
       "      <td>0.0</td>\n",
       "      <td>-0.567311</td>\n",
       "      <td>2.028865</td>\n",
       "      <td>...</td>\n",
       "      <td>-0.116682</td>\n",
       "      <td>-0.116682</td>\n",
       "      <td>-0.585027</td>\n",
       "      <td>-0.185181</td>\n",
       "      <td>0.577100</td>\n",
       "      <td>-0.189828</td>\n",
       "      <td>-0.189828</td>\n",
       "      <td>-0.126652</td>\n",
       "      <td>-0.124283</td>\n",
       "      <td>-0.502890</td>\n",
       "    </tr>\n",
       "  </tbody>\n",
       "</table>\n",
       "<p>3 rows × 18442 columns</p>\n",
       "</div>"
      ],
      "text/plain": [
       "   shows delayed  issues given bonus  airline world    caned  screaming  \\\n",
       "0       0.175077            0.175077      -1.242715 -0.38485   0.093332   \n",
       "1      -0.118417           -0.118417       1.532162  0.51623  -0.083093   \n",
       "2      -0.056661           -0.056661      -0.289447 -0.13138  -0.010239   \n",
       "\n",
       "   wednesday   hanging  donate http  maatkare hope      kids  \\\n",
       "0   0.186102  0.119168          0.0       0.871001 -1.322204   \n",
       "1  -0.119380 -0.076588          0.0      -0.303690 -0.706661   \n",
       "2  -0.066722 -0.042580          0.0      -0.567311  2.028865   \n",
       "\n",
       "         ...         weather humor  fantastic customer service   getting  \\\n",
       "0        ...              0.427399                    0.427399  1.143045   \n",
       "1        ...             -0.310717                   -0.310717 -0.558017   \n",
       "2        ...             -0.116682                   -0.116682 -0.585027   \n",
       "\n",
       "   disorganized  delay voucher  paid extra  really need better      sick  \\\n",
       "0      0.397457      -1.064725   -0.075797           -0.075797  0.548283   \n",
       "1     -0.212276       0.487625    0.265625            0.265625 -0.421632   \n",
       "2     -0.185181       0.577100   -0.189828           -0.189828 -0.126652   \n",
       "\n",
       "        gas  hours time worth  \n",
       "0 -0.507413          1.371559  \n",
       "1  0.631696         -0.868670  \n",
       "2 -0.124283         -0.502890  \n",
       "\n",
       "[3 rows x 18442 columns]"
      ]
     },
     "execution_count": 813,
     "metadata": {},
     "output_type": "execute_result"
    }
   ],
   "source": [
    "coefs"
   ]
  },
  {
   "cell_type": "code",
   "execution_count": 814,
   "metadata": {
    "collapsed": false,
    "scrolled": true
   },
   "outputs": [
    {
     "data": {
      "text/html": [
       "<div>\n",
       "<table border=\"1\" class=\"dataframe\">\n",
       "  <thead>\n",
       "    <tr style=\"text-align: right;\">\n",
       "      <th></th>\n",
       "      <th>shows delayed</th>\n",
       "      <th>issues given bonus</th>\n",
       "      <th>airline world</th>\n",
       "      <th>caned</th>\n",
       "      <th>screaming</th>\n",
       "      <th>wednesday</th>\n",
       "      <th>hanging</th>\n",
       "      <th>donate http</th>\n",
       "      <th>maatkare hope</th>\n",
       "      <th>kids</th>\n",
       "      <th>...</th>\n",
       "      <th>weather humor</th>\n",
       "      <th>fantastic customer service</th>\n",
       "      <th>getting</th>\n",
       "      <th>disorganized</th>\n",
       "      <th>delay voucher</th>\n",
       "      <th>paid extra</th>\n",
       "      <th>really need better</th>\n",
       "      <th>sick</th>\n",
       "      <th>gas</th>\n",
       "      <th>hours time worth</th>\n",
       "    </tr>\n",
       "  </thead>\n",
       "  <tbody>\n",
       "    <tr>\n",
       "      <th>0</th>\n",
       "      <td>-0.175077</td>\n",
       "      <td>-0.175077</td>\n",
       "      <td>0.0</td>\n",
       "      <td>0.0</td>\n",
       "      <td>-0.093332</td>\n",
       "      <td>-0.186102</td>\n",
       "      <td>-0.119168</td>\n",
       "      <td>0.0</td>\n",
       "      <td>-0.871001</td>\n",
       "      <td>2.028865</td>\n",
       "      <td>...</td>\n",
       "      <td>-0.427399</td>\n",
       "      <td>-0.427399</td>\n",
       "      <td>-1.143045</td>\n",
       "      <td>-0.397457</td>\n",
       "      <td>0.5771</td>\n",
       "      <td>0.0</td>\n",
       "      <td>0.0</td>\n",
       "      <td>-0.548283</td>\n",
       "      <td>0.0</td>\n",
       "      <td>-1.371559</td>\n",
       "    </tr>\n",
       "  </tbody>\n",
       "</table>\n",
       "<p>1 rows × 18442 columns</p>\n",
       "</div>"
      ],
      "text/plain": [
       "   shows delayed  issues given bonus  airline world  caned  screaming  \\\n",
       "0      -0.175077           -0.175077            0.0    0.0  -0.093332   \n",
       "\n",
       "   wednesday   hanging  donate http  maatkare hope      kids  \\\n",
       "0  -0.186102 -0.119168          0.0      -0.871001  2.028865   \n",
       "\n",
       "         ...         weather humor  fantastic customer service   getting  \\\n",
       "0        ...             -0.427399                   -0.427399 -1.143045   \n",
       "\n",
       "   disorganized  delay voucher  paid extra  really need better      sick  gas  \\\n",
       "0     -0.397457         0.5771         0.0                 0.0 -0.548283  0.0   \n",
       "\n",
       "   hours time worth  \n",
       "0         -1.371559  \n",
       "\n",
       "[1 rows x 18442 columns]"
      ]
     },
     "execution_count": 814,
     "metadata": {},
     "output_type": "execute_result"
    }
   ],
   "source": [
    "t_coefs = coefs.T\n",
    "t_coefs.columns = ['negative', 'neutral', 'positive']\n",
    "neg = []\n",
    "for i in t_coefs['negative']:\n",
    "    if i > 0:\n",
    "        neg.append(-1*i)\n",
    "    else:\n",
    "        neg.append(0)\n",
    "pos = []\n",
    "for i in t_coefs['positive']:\n",
    "    if i > 0:\n",
    "        pos.append(i)\n",
    "    else:\n",
    "        pos.append(0)\n",
    "pos\n",
    "zipped = zip(neg, pos)\n",
    "together = []\n",
    "for i in zipped:\n",
    "    together.append(sum(i))\n",
    "together = pd.DataFrame(together, index=coefs.columns)\n",
    "tog = together.T\n",
    "tog"
   ]
  },
  {
   "cell_type": "code",
   "execution_count": 815,
   "metadata": {
    "collapsed": false
   },
   "outputs": [
    {
     "data": {
      "text/plain": [
       "0.76055463576158944"
      ]
     },
     "execution_count": 815,
     "metadata": {},
     "output_type": "execute_result"
    }
   ],
   "source": [
    "y_pred = lr.predict(XX_test)\n",
    "lr.score(XX_test, y_test)"
   ]
  },
  {
   "cell_type": "code",
   "execution_count": 816,
   "metadata": {
    "collapsed": false
   },
   "outputs": [
    {
     "name": "stdout",
     "output_type": "stream",
     "text": [
      "             precision    recall  f1-score   support\n",
      "\n",
      "          0       0.81      0.90      0.85      3029\n",
      "          1       0.57      0.50      0.53      1023\n",
      "          2       0.76      0.57      0.65       780\n",
      "\n",
      "avg / total       0.75      0.76      0.75      4832\n",
      "\n"
     ]
    }
   ],
   "source": [
    "print classification_report(y_test, y_pred)"
   ]
  },
  {
   "cell_type": "code",
   "execution_count": 817,
   "metadata": {
    "collapsed": false
   },
   "outputs": [
    {
     "data": {
      "text/plain": [
       "array([[2713,  247,   69],\n",
       "       [ 438,  516,   69],\n",
       "       [ 185,  149,  446]])"
      ]
     },
     "execution_count": 817,
     "metadata": {},
     "output_type": "execute_result"
    }
   ],
   "source": [
    "con = confusion_matrix(y_test, y_pred)\n",
    "con"
   ]
  },
  {
   "cell_type": "code",
   "execution_count": 818,
   "metadata": {
    "collapsed": false
   },
   "outputs": [
    {
     "data": {
      "text/plain": [
       "50"
      ]
     },
     "execution_count": 818,
     "metadata": {},
     "output_type": "execute_result"
    }
   ],
   "source": [
    "# 50 most important words\n",
    "most_imp = sorted([i[0] for i in log_reg_imp])[:50]\n",
    "len(most_imp)"
   ]
  },
  {
   "cell_type": "code",
   "execution_count": 819,
   "metadata": {
    "collapsed": false
   },
   "outputs": [
    {
     "data": {
      "text/plain": [
       "SelectKBest(k=67, score_func=<function f_classif at 0x114242c08>)"
      ]
     },
     "execution_count": 819,
     "metadata": {},
     "output_type": "execute_result"
    }
   ],
   "source": [
    "tfv = TfidfVectorizer(stop_words=text.ENGLISH_STOP_WORDS.union(mine), token_pattern='[a-zA-Z]{3,50}',ngram_range=(1,3),\n",
    "                      min_df=2, max_df=0.1, sublinear_tf=True, max_features=100)\n",
    "X_sb = tfv.fit_transform(df['text'])\n",
    "\n",
    "\n",
    "sb = SelectKBest(f_classif, k=67)\n",
    "sb.fit(X_sb, y)"
   ]
  },
  {
   "cell_type": "code",
   "execution_count": 820,
   "metadata": {
    "collapsed": false
   },
   "outputs": [],
   "source": [
    "mask = sb.get_support()\n",
    "imp = pd.DataFrame(np.asarray(tfv.get_feature_names())[sb.get_support()])"
   ]
  },
  {
   "cell_type": "markdown",
   "metadata": {},
   "source": [
    "# Vectorizing the Tweets"
   ]
  },
  {
   "cell_type": "code",
   "execution_count": 821,
   "metadata": {
    "collapsed": true
   },
   "outputs": [],
   "source": [
    "tfv = TfidfVectorizer(stop_words=text.ENGLISH_STOP_WORDS.union(mine), token_pattern='[a-zA-Z]{3,50}',ngram_range=(1,2), min_df=2, max_df=0.8,vocabulary=imp[0])\n",
    "X = tfv.fit_transform(df['text'])\n",
    "X_dense = pd.DataFrame(X.todense())\n",
    "voc = tfv.vocabulary_\n",
    "X_dense.columns = voc"
   ]
  },
  {
   "cell_type": "code",
   "execution_count": 822,
   "metadata": {
    "collapsed": false,
    "scrolled": true
   },
   "outputs": [
    {
     "data": {
      "text/html": [
       "<div>\n",
       "<table border=\"1\" class=\"dataframe\">\n",
       "  <thead>\n",
       "    <tr style=\"text-align: right;\">\n",
       "      <th></th>\n",
       "      <th>love</th>\n",
       "      <th>help</th>\n",
       "      <th>flight cancelled</th>\n",
       "      <th>number</th>\n",
       "      <th>thanks</th>\n",
       "      <th>tomorrow</th>\n",
       "      <th>staff</th>\n",
       "      <th>late</th>\n",
       "      <th>hold</th>\n",
       "      <th>late flight</th>\n",
       "      <th>...</th>\n",
       "      <th>wait</th>\n",
       "      <th>great</th>\n",
       "      <th>don</th>\n",
       "      <th>luggage</th>\n",
       "      <th>days</th>\n",
       "      <th>experience</th>\n",
       "      <th>baggage</th>\n",
       "      <th>airline</th>\n",
       "      <th>time</th>\n",
       "      <th>flightled</th>\n",
       "    </tr>\n",
       "  </thead>\n",
       "  <tbody>\n",
       "    <tr>\n",
       "      <th>0</th>\n",
       "      <td>0.0</td>\n",
       "      <td>0.0</td>\n",
       "      <td>0.000000</td>\n",
       "      <td>0.0</td>\n",
       "      <td>0.0</td>\n",
       "      <td>0.0</td>\n",
       "      <td>0.0</td>\n",
       "      <td>0.0</td>\n",
       "      <td>0.0</td>\n",
       "      <td>0.0</td>\n",
       "      <td>...</td>\n",
       "      <td>0.0</td>\n",
       "      <td>0.0</td>\n",
       "      <td>0.0</td>\n",
       "      <td>0.0</td>\n",
       "      <td>0.0</td>\n",
       "      <td>0.0</td>\n",
       "      <td>0.0</td>\n",
       "      <td>0.0</td>\n",
       "      <td>0.0</td>\n",
       "      <td>0.0</td>\n",
       "    </tr>\n",
       "    <tr>\n",
       "      <th>1</th>\n",
       "      <td>0.0</td>\n",
       "      <td>0.0</td>\n",
       "      <td>0.000000</td>\n",
       "      <td>0.0</td>\n",
       "      <td>0.0</td>\n",
       "      <td>0.0</td>\n",
       "      <td>0.0</td>\n",
       "      <td>0.0</td>\n",
       "      <td>0.0</td>\n",
       "      <td>0.0</td>\n",
       "      <td>...</td>\n",
       "      <td>0.0</td>\n",
       "      <td>0.0</td>\n",
       "      <td>0.0</td>\n",
       "      <td>0.0</td>\n",
       "      <td>0.0</td>\n",
       "      <td>0.0</td>\n",
       "      <td>0.0</td>\n",
       "      <td>0.0</td>\n",
       "      <td>0.0</td>\n",
       "      <td>0.0</td>\n",
       "    </tr>\n",
       "    <tr>\n",
       "      <th>2</th>\n",
       "      <td>0.0</td>\n",
       "      <td>0.0</td>\n",
       "      <td>0.000000</td>\n",
       "      <td>0.0</td>\n",
       "      <td>0.0</td>\n",
       "      <td>0.0</td>\n",
       "      <td>0.0</td>\n",
       "      <td>0.0</td>\n",
       "      <td>0.0</td>\n",
       "      <td>0.0</td>\n",
       "      <td>...</td>\n",
       "      <td>0.0</td>\n",
       "      <td>0.0</td>\n",
       "      <td>0.0</td>\n",
       "      <td>0.0</td>\n",
       "      <td>0.0</td>\n",
       "      <td>0.0</td>\n",
       "      <td>0.0</td>\n",
       "      <td>0.0</td>\n",
       "      <td>0.0</td>\n",
       "      <td>0.0</td>\n",
       "    </tr>\n",
       "    <tr>\n",
       "      <th>3</th>\n",
       "      <td>0.0</td>\n",
       "      <td>0.0</td>\n",
       "      <td>0.000000</td>\n",
       "      <td>0.0</td>\n",
       "      <td>0.0</td>\n",
       "      <td>0.0</td>\n",
       "      <td>0.0</td>\n",
       "      <td>0.0</td>\n",
       "      <td>0.0</td>\n",
       "      <td>0.0</td>\n",
       "      <td>...</td>\n",
       "      <td>0.0</td>\n",
       "      <td>0.0</td>\n",
       "      <td>0.0</td>\n",
       "      <td>0.0</td>\n",
       "      <td>0.0</td>\n",
       "      <td>0.0</td>\n",
       "      <td>0.0</td>\n",
       "      <td>0.0</td>\n",
       "      <td>0.0</td>\n",
       "      <td>0.0</td>\n",
       "    </tr>\n",
       "    <tr>\n",
       "      <th>4</th>\n",
       "      <td>0.0</td>\n",
       "      <td>0.0</td>\n",
       "      <td>0.740851</td>\n",
       "      <td>0.0</td>\n",
       "      <td>0.0</td>\n",
       "      <td>0.0</td>\n",
       "      <td>0.0</td>\n",
       "      <td>0.0</td>\n",
       "      <td>0.0</td>\n",
       "      <td>0.0</td>\n",
       "      <td>...</td>\n",
       "      <td>0.0</td>\n",
       "      <td>0.0</td>\n",
       "      <td>0.0</td>\n",
       "      <td>0.0</td>\n",
       "      <td>0.0</td>\n",
       "      <td>0.0</td>\n",
       "      <td>0.0</td>\n",
       "      <td>0.0</td>\n",
       "      <td>0.0</td>\n",
       "      <td>0.0</td>\n",
       "    </tr>\n",
       "  </tbody>\n",
       "</table>\n",
       "<p>5 rows × 67 columns</p>\n",
       "</div>"
      ],
      "text/plain": [
       "   love  help  flight cancelled  number  thanks  tomorrow  staff  late  hold  \\\n",
       "0   0.0   0.0          0.000000     0.0     0.0       0.0    0.0   0.0   0.0   \n",
       "1   0.0   0.0          0.000000     0.0     0.0       0.0    0.0   0.0   0.0   \n",
       "2   0.0   0.0          0.000000     0.0     0.0       0.0    0.0   0.0   0.0   \n",
       "3   0.0   0.0          0.000000     0.0     0.0       0.0    0.0   0.0   0.0   \n",
       "4   0.0   0.0          0.740851     0.0     0.0       0.0    0.0   0.0   0.0   \n",
       "\n",
       "   late flight    ...      wait  great  don  luggage  days  experience  \\\n",
       "0          0.0    ...       0.0    0.0  0.0      0.0   0.0         0.0   \n",
       "1          0.0    ...       0.0    0.0  0.0      0.0   0.0         0.0   \n",
       "2          0.0    ...       0.0    0.0  0.0      0.0   0.0         0.0   \n",
       "3          0.0    ...       0.0    0.0  0.0      0.0   0.0         0.0   \n",
       "4          0.0    ...       0.0    0.0  0.0      0.0   0.0         0.0   \n",
       "\n",
       "   baggage  airline  time  flightled  \n",
       "0      0.0      0.0   0.0        0.0  \n",
       "1      0.0      0.0   0.0        0.0  \n",
       "2      0.0      0.0   0.0        0.0  \n",
       "3      0.0      0.0   0.0        0.0  \n",
       "4      0.0      0.0   0.0        0.0  \n",
       "\n",
       "[5 rows x 67 columns]"
      ]
     },
     "execution_count": 822,
     "metadata": {},
     "output_type": "execute_result"
    }
   ],
   "source": [
    "X_dense.head()"
   ]
  },
  {
   "cell_type": "code",
   "execution_count": 823,
   "metadata": {
    "collapsed": false,
    "scrolled": false
   },
   "outputs": [
    {
     "name": "stdout",
     "output_type": "stream",
     "text": [
      "10 most common words\n"
     ]
    },
    {
     "data": {
      "text/plain": [
       "[(u'need', 858.16920848311565),\n",
       " (u'don', 735.13909594223219),\n",
       " (u'bad', 506.35475149124841),\n",
       " (u'response', 476.53967009256814),\n",
       " (u'luggage', 472.55397784213352),\n",
       " (u'great', 460.97518680201671),\n",
       " (u'late', 447.70772883582151),\n",
       " (u'trying', 397.79753134726946),\n",
       " (u'hours', 382.23414232667602),\n",
       " (u'crew', 369.28774056625656)]"
      ]
     },
     "execution_count": 823,
     "metadata": {},
     "output_type": "execute_result"
    }
   ],
   "source": [
    "from operator import itemgetter\n",
    "dicty = {}\n",
    "for i in X_dense:\n",
    "    dicty[i] = sum(X_dense[i])\n",
    "print '10 most common words'\n",
    "sorted(dicty.items(), key=itemgetter(1), reverse=True)[:10]"
   ]
  },
  {
   "cell_type": "markdown",
   "metadata": {},
   "source": [
    "# SVD and Hierarchical Clustering"
   ]
  },
  {
   "cell_type": "code",
   "execution_count": 824,
   "metadata": {
    "collapsed": false
   },
   "outputs": [],
   "source": [
    "scaler = StandardScaler(with_mean=False)\n",
    "\n",
    "\n",
    "trunc = TruncatedSVD(n_components=43)\n",
    "\n",
    "truncy = pd.DataFrame(trunc.fit_transform(X))"
   ]
  },
  {
   "cell_type": "code",
   "execution_count": 825,
   "metadata": {
    "collapsed": false
   },
   "outputs": [
    {
     "data": {
      "text/html": [
       "<div>\n",
       "<table border=\"1\" class=\"dataframe\">\n",
       "  <thead>\n",
       "    <tr style=\"text-align: right;\">\n",
       "      <th></th>\n",
       "      <th>0</th>\n",
       "    </tr>\n",
       "  </thead>\n",
       "  <tbody>\n",
       "    <tr>\n",
       "      <th>0</th>\n",
       "      <td>0.055607</td>\n",
       "    </tr>\n",
       "    <tr>\n",
       "      <th>1</th>\n",
       "      <td>0.044209</td>\n",
       "    </tr>\n",
       "    <tr>\n",
       "      <th>2</th>\n",
       "      <td>0.034438</td>\n",
       "    </tr>\n",
       "    <tr>\n",
       "      <th>3</th>\n",
       "      <td>0.035378</td>\n",
       "    </tr>\n",
       "    <tr>\n",
       "      <th>4</th>\n",
       "      <td>0.034678</td>\n",
       "    </tr>\n",
       "    <tr>\n",
       "      <th>5</th>\n",
       "      <td>0.030210</td>\n",
       "    </tr>\n",
       "    <tr>\n",
       "      <th>6</th>\n",
       "      <td>0.030053</td>\n",
       "    </tr>\n",
       "    <tr>\n",
       "      <th>7</th>\n",
       "      <td>0.025482</td>\n",
       "    </tr>\n",
       "    <tr>\n",
       "      <th>8</th>\n",
       "      <td>0.024129</td>\n",
       "    </tr>\n",
       "    <tr>\n",
       "      <th>9</th>\n",
       "      <td>0.022721</td>\n",
       "    </tr>\n",
       "  </tbody>\n",
       "</table>\n",
       "</div>"
      ],
      "text/plain": [
       "          0\n",
       "0  0.055607\n",
       "1  0.044209\n",
       "2  0.034438\n",
       "3  0.035378\n",
       "4  0.034678\n",
       "5  0.030210\n",
       "6  0.030053\n",
       "7  0.025482\n",
       "8  0.024129\n",
       "9  0.022721"
      ]
     },
     "execution_count": 825,
     "metadata": {},
     "output_type": "execute_result"
    }
   ],
   "source": [
    "import numpy as np\n",
    "pd.DataFrame(trunc.explained_variance_ratio_)[:10]"
   ]
  },
  {
   "cell_type": "code",
   "execution_count": 826,
   "metadata": {
    "collapsed": false
   },
   "outputs": [
    {
     "data": {
      "text/plain": [
       "[<matplotlib.lines.Line2D at 0x11839fe90>]"
      ]
     },
     "execution_count": 826,
     "metadata": {},
     "output_type": "execute_result"
    },
    {
     "data": {
      "image/png": "[encoded data removed]",
      "text/plain": [
       "<matplotlib.figure.Figure at 0x11832d590>"
      ]
     },
     "metadata": {},
     "output_type": "display_data"
    }
   ],
   "source": [
    "plt.plot(np.cumsum(trunc.explained_variance_ratio_))"
   ]
  },
  {
   "cell_type": "code",
   "execution_count": 827,
   "metadata": {
    "collapsed": false
   },
   "outputs": [],
   "source": [
    "km = AgglomerativeClustering(n_clusters=3)\n",
    "km.fit(truncy)\n",
    "labels = pd.DataFrame(km.labels_)\n",
    "\n",
    "km2 = KMeans(n_clusters=3, init='k-means++', max_iter=100, n_init=30)\n",
    "km2.fit(truncy, y)\n",
    "labels2 = pd.DataFrame(km2.labels_)\n"
   ]
  },
  {
   "cell_type": "code",
   "execution_count": 828,
   "metadata": {
    "collapsed": false
   },
   "outputs": [
    {
     "name": "stdout",
     "output_type": "stream",
     "text": [
      "             precision    recall  f1-score   support\n",
      "\n",
      "          0       0.66      0.97      0.79      9178\n",
      "          1       0.59      0.11      0.19      3099\n",
      "          2       0.66      0.13      0.22      2363\n",
      "\n",
      "avg / total       0.64      0.66      0.57     14640\n",
      "\n",
      "[[8938  162   78]\n",
      " [2665  350   84]\n",
      " [1966   85  312]]\n",
      "Homogeneity Score: 0.0417562986761\n",
      "Rand: 0.0965285869448\n"
     ]
    }
   ],
   "source": [
    "y_pred = np.choose(labels, [0,1,2])\n",
    "le = LabelEncoder()\n",
    "thing['airline_sentiment'] = le.fit_transform(thing['airline_sentiment'])\n",
    "print classification_report(thing['airline_sentiment'], y_pred)\n",
    "print confusion_matrix(thing['airline_sentiment'], y_pred)\n",
    "print 'Homogeneity Score:', homogeneity_score(thing['airline_sentiment'], y_pred[0])\n",
    "print 'Rand:', adjusted_rand_score(thing['airline_sentiment'], y_pred[0])"
   ]
  },
  {
   "cell_type": "code",
   "execution_count": 830,
   "metadata": {
    "collapsed": false
   },
   "outputs": [
    {
     "name": "stdout",
     "output_type": "stream",
     "text": [
      "             precision    recall  f1-score   support\n",
      "\n",
      "          0       0.68      0.93      0.78      9178\n",
      "          1       0.47      0.15      0.23      3099\n",
      "          2       0.58      0.25      0.35      2363\n",
      "\n",
      "avg / total       0.62      0.66      0.60     14640\n",
      "\n",
      "[[8565  344  269]\n",
      " [2484  460  155]\n",
      " [1616  165  582]]\n",
      "Homogeneity Score: 0.0543741289352\n",
      "Rand: 0.137094270406\n"
     ]
    }
   ],
   "source": [
    "y_pred2 = np.choose(labels2, [0,2,1])\n",
    "le = LabelEncoder()\n",
    "thing['airline_sentiment'] = le.fit_transform(thing['airline_sentiment'])\n",
    "print classification_report(thing['airline_sentiment'], y_pred2)\n",
    "print confusion_matrix(thing['airline_sentiment'], y_pred2)\n",
    "print 'Homogeneity Score:', homogeneity_score(thing['airline_sentiment'], y_pred2[0])\n",
    "print 'Rand:', adjusted_rand_score(thing['airline_sentiment'], y_pred2[0])"
   ]
  },
  {
   "cell_type": "code",
   "execution_count": 521,
   "metadata": {
    "collapsed": false
   },
   "outputs": [],
   "source": [
    "dingus = pd.concat([df,X_dense], axis=1)"
   ]
  },
  {
   "cell_type": "code",
   "execution_count": 522,
   "metadata": {
    "collapsed": false
   },
   "outputs": [
    {
     "data": {
      "text/html": [
       "<div>\n",
       "<table border=\"1\" class=\"dataframe\">\n",
       "  <thead>\n",
       "    <tr style=\"text-align: right;\">\n",
       "      <th></th>\n",
       "      <th>tweet_id</th>\n",
       "      <th>airline_sentiment</th>\n",
       "      <th>airline_sentiment_confidence</th>\n",
       "      <th>negativereason</th>\n",
       "      <th>negativereason_confidence</th>\n",
       "      <th>airline</th>\n",
       "      <th>name</th>\n",
       "      <th>retweet_count</th>\n",
       "      <th>text</th>\n",
       "      <th>tweet_coord</th>\n",
       "      <th>...</th>\n",
       "      <th>service</th>\n",
       "      <th>lax</th>\n",
       "      <th>flights</th>\n",
       "      <th>flightr</th>\n",
       "      <th>fleet</th>\n",
       "      <th>just</th>\n",
       "      <th>agent</th>\n",
       "      <th>with you</th>\n",
       "      <th>know</th>\n",
       "      <th>waiting</th>\n",
       "    </tr>\n",
       "  </thead>\n",
       "  <tbody>\n",
       "    <tr>\n",
       "      <th>0</th>\n",
       "      <td>570306133677760513</td>\n",
       "      <td>neutral</td>\n",
       "      <td>1.0000</td>\n",
       "      <td>NaN</td>\n",
       "      <td>NaN</td>\n",
       "      <td>Virgin America</td>\n",
       "      <td>cairdin</td>\n",
       "      <td>0</td>\n",
       "      <td>@VirginAmerica What @dhepburn said.</td>\n",
       "      <td>NaN</td>\n",
       "      <td>...</td>\n",
       "      <td>0.0</td>\n",
       "      <td>0.0</td>\n",
       "      <td>0.0</td>\n",
       "      <td>0.0</td>\n",
       "      <td>0.000000</td>\n",
       "      <td>0.0</td>\n",
       "      <td>0.0</td>\n",
       "      <td>0.0</td>\n",
       "      <td>0.0</td>\n",
       "      <td>0.000000</td>\n",
       "    </tr>\n",
       "    <tr>\n",
       "      <th>1</th>\n",
       "      <td>570301130888122368</td>\n",
       "      <td>positive</td>\n",
       "      <td>0.3486</td>\n",
       "      <td>NaN</td>\n",
       "      <td>0.0000</td>\n",
       "      <td>Virgin America</td>\n",
       "      <td>jnardino</td>\n",
       "      <td>0</td>\n",
       "      <td>@VirginAmerica plus you've added commercials t...</td>\n",
       "      <td>NaN</td>\n",
       "      <td>...</td>\n",
       "      <td>0.0</td>\n",
       "      <td>0.0</td>\n",
       "      <td>0.0</td>\n",
       "      <td>0.0</td>\n",
       "      <td>0.384492</td>\n",
       "      <td>0.0</td>\n",
       "      <td>0.0</td>\n",
       "      <td>0.0</td>\n",
       "      <td>0.0</td>\n",
       "      <td>0.000000</td>\n",
       "    </tr>\n",
       "    <tr>\n",
       "      <th>2</th>\n",
       "      <td>570301083672813571</td>\n",
       "      <td>neutral</td>\n",
       "      <td>0.6837</td>\n",
       "      <td>NaN</td>\n",
       "      <td>NaN</td>\n",
       "      <td>Virgin America</td>\n",
       "      <td>yvonnalynn</td>\n",
       "      <td>0</td>\n",
       "      <td>@VirginAmerica I didn't today... Must mean I n...</td>\n",
       "      <td>NaN</td>\n",
       "      <td>...</td>\n",
       "      <td>0.0</td>\n",
       "      <td>0.0</td>\n",
       "      <td>0.0</td>\n",
       "      <td>0.0</td>\n",
       "      <td>0.000000</td>\n",
       "      <td>0.0</td>\n",
       "      <td>0.0</td>\n",
       "      <td>0.0</td>\n",
       "      <td>0.0</td>\n",
       "      <td>0.000000</td>\n",
       "    </tr>\n",
       "    <tr>\n",
       "      <th>3</th>\n",
       "      <td>570301031407624196</td>\n",
       "      <td>negative</td>\n",
       "      <td>1.0000</td>\n",
       "      <td>Bad Flight</td>\n",
       "      <td>0.7033</td>\n",
       "      <td>Virgin America</td>\n",
       "      <td>jnardino</td>\n",
       "      <td>0</td>\n",
       "      <td>@VirginAmerica it's really aggressive to blast...</td>\n",
       "      <td>NaN</td>\n",
       "      <td>...</td>\n",
       "      <td>0.0</td>\n",
       "      <td>0.0</td>\n",
       "      <td>0.0</td>\n",
       "      <td>0.0</td>\n",
       "      <td>0.000000</td>\n",
       "      <td>0.0</td>\n",
       "      <td>0.0</td>\n",
       "      <td>0.0</td>\n",
       "      <td>0.0</td>\n",
       "      <td>0.362536</td>\n",
       "    </tr>\n",
       "    <tr>\n",
       "      <th>4</th>\n",
       "      <td>570300817074462722</td>\n",
       "      <td>negative</td>\n",
       "      <td>1.0000</td>\n",
       "      <td>Can't Tell</td>\n",
       "      <td>1.0000</td>\n",
       "      <td>Virgin America</td>\n",
       "      <td>jnardino</td>\n",
       "      <td>0</td>\n",
       "      <td>@VirginAmerica and it's a really big bad thing...</td>\n",
       "      <td>NaN</td>\n",
       "      <td>...</td>\n",
       "      <td>0.0</td>\n",
       "      <td>0.0</td>\n",
       "      <td>0.0</td>\n",
       "      <td>0.0</td>\n",
       "      <td>0.000000</td>\n",
       "      <td>0.0</td>\n",
       "      <td>0.0</td>\n",
       "      <td>0.0</td>\n",
       "      <td>0.0</td>\n",
       "      <td>0.000000</td>\n",
       "    </tr>\n",
       "  </tbody>\n",
       "</table>\n",
       "<p>5 rows × 295 columns</p>\n",
       "</div>"
      ],
      "text/plain": [
       "             tweet_id airline_sentiment  airline_sentiment_confidence  \\\n",
       "0  570306133677760513           neutral                        1.0000   \n",
       "1  570301130888122368          positive                        0.3486   \n",
       "2  570301083672813571           neutral                        0.6837   \n",
       "3  570301031407624196          negative                        1.0000   \n",
       "4  570300817074462722          negative                        1.0000   \n",
       "\n",
       "  negativereason  negativereason_confidence         airline        name  \\\n",
       "0            NaN                        NaN  Virgin America     cairdin   \n",
       "1            NaN                     0.0000  Virgin America    jnardino   \n",
       "2            NaN                        NaN  Virgin America  yvonnalynn   \n",
       "3     Bad Flight                     0.7033  Virgin America    jnardino   \n",
       "4     Can't Tell                     1.0000  Virgin America    jnardino   \n",
       "\n",
       "   retweet_count                                               text  \\\n",
       "0              0                @VirginAmerica What @dhepburn said.   \n",
       "1              0  @VirginAmerica plus you've added commercials t...   \n",
       "2              0  @VirginAmerica I didn't today... Must mean I n...   \n",
       "3              0  @VirginAmerica it's really aggressive to blast...   \n",
       "4              0  @VirginAmerica and it's a really big bad thing...   \n",
       "\n",
       "  tweet_coord    ...    service  lax flights  flightr     fleet  just  agent  \\\n",
       "0         NaN    ...        0.0  0.0     0.0      0.0  0.000000   0.0    0.0   \n",
       "1         NaN    ...        0.0  0.0     0.0      0.0  0.384492   0.0    0.0   \n",
       "2         NaN    ...        0.0  0.0     0.0      0.0  0.000000   0.0    0.0   \n",
       "3         NaN    ...        0.0  0.0     0.0      0.0  0.000000   0.0    0.0   \n",
       "4         NaN    ...        0.0  0.0     0.0      0.0  0.000000   0.0    0.0   \n",
       "\n",
       "   with you  know   waiting  \n",
       "0       0.0   0.0  0.000000  \n",
       "1       0.0   0.0  0.000000  \n",
       "2       0.0   0.0  0.000000  \n",
       "3       0.0   0.0  0.362536  \n",
       "4       0.0   0.0  0.000000  \n",
       "\n",
       "[5 rows x 295 columns]"
      ]
     },
     "execution_count": 522,
     "metadata": {},
     "output_type": "execute_result"
    }
   ],
   "source": [
    "dingus.head()"
   ]
  },
  {
   "cell_type": "code",
   "execution_count": 523,
   "metadata": {
    "collapsed": true
   },
   "outputs": [],
   "source": [
    "dingus.to_csv('word_data.csv')"
   ]
  },
  {
   "cell_type": "markdown",
   "metadata": {},
   "source": [
    "# Trying with just neg and pos"
   ]
  },
  {
   "cell_type": "code",
   "execution_count": 988,
   "metadata": {
    "collapsed": false
   },
   "outputs": [
    {
     "name": "stdout",
     "output_type": "stream",
     "text": [
      "3069\n",
      "2363\n"
     ]
    },
    {
     "data": {
      "text/plain": [
       "5432"
      ]
     },
     "execution_count": 988,
     "metadata": {},
     "output_type": "execute_result"
    }
   ],
   "source": [
    "df_pos = df[df['airline_sentiment']=='positive']\n",
    "df_neg = df[df['airline_sentiment']=='negative']\n",
    "df_neg = df_neg[df_neg.index % 3 == 0]\n",
    "print len(df_neg)\n",
    "print len(df_pos)\n",
    "posneg_df = pd.concat([df_pos, df_neg], axis=0)\n",
    "len(posneg_df)"
   ]
  },
  {
   "cell_type": "code",
   "execution_count": 1059,
   "metadata": {
    "collapsed": false
   },
   "outputs": [],
   "source": [
    "\n",
    "mine = ['virginamerica', 'americanair','united', 'southwest', 'southwestair', 'delta', 'usairways','american']\n",
    "\n",
    "tfv = TfidfVectorizer(stop_words=text.ENGLISH_STOP_WORDS.union(mine), token_pattern='[a-zA-Z]{3,50}',\n",
    "                      ngram_range=(1,2), min_df=5, max_df=0.6)\n",
    "X_neg = tfv.fit_transform(posneg_df[posneg_df['airline_sentiment'] == 'negative']['text'])\n",
    "X_dense_neg = pd.DataFrame(X_neg.todense())\n",
    "voc_neg = tfv.vocabulary_\n",
    "X_dense_neg.columns = voc_neg\n"
   ]
  },
  {
   "cell_type": "code",
   "execution_count": 1060,
   "metadata": {
    "collapsed": false
   },
   "outputs": [],
   "source": [
    "tfv = TfidfVectorizer(stop_words=text.ENGLISH_STOP_WORDS.union(mine), token_pattern='[a-zA-Z]{3,50}',\n",
    "                      ngram_range=(1,2), min_df=5, max_df=0.6)\n",
    "X_pos = tfv.fit_transform(posneg_df[posneg_df['airline_sentiment'] == 'positive']['text'])\n",
    "X_dense_pos = pd.DataFrame(X_pos.todense())\n",
    "voc_pos = tfv.vocabulary_\n",
    "X_dense_pos.columns = voc_pos\n"
   ]
  },
  {
   "cell_type": "code",
   "execution_count": 1061,
   "metadata": {
    "collapsed": false
   },
   "outputs": [
    {
     "name": "stdout",
     "output_type": "stream",
     "text": [
      "1806\n",
      "1373\n"
     ]
    }
   ],
   "source": [
    "score_listy = []\n",
    "voc_listy = []\n",
    "for i in voc_pos:\n",
    "    voc_listy.append(i)\n",
    "    score_listy.append(10)\n",
    "for i in voc_neg:\n",
    "    voc_listy.append(i)\n",
    "    score_listy.append(-10)\n",
    "\n",
    "scores = pd.DataFrame(voc_listy)\n",
    "scores['scores'] = score_listy\n",
    "scores.columns = ['voc', 'score']\n",
    "print len(scores)\n",
    "scores.drop_duplicates('voc', inplace=True)\n",
    "print len(scores)"
   ]
  },
  {
   "cell_type": "code",
   "execution_count": 1062,
   "metadata": {
    "collapsed": false
   },
   "outputs": [],
   "source": [
    "weights = {}\n",
    "for idx, i in enumerate(posneg_df['text']):\n",
    "    for j in scores[scores['score'] == 10]['voc']:\n",
    "        if str(j) in str(i):\n",
    "            weights[idx] = 100\n",
    "        elif idx not in weights:\n",
    "            weights[idx] = 0\n",
    "    for k in scores[scores['score'] == -10]['voc']:\n",
    "        if str(k) in str(i):\n",
    "            weights[idx] = -100\n",
    "        elif idx not in weights:\n",
    "            weights[idx] = 0\n"
   ]
  },
  {
   "cell_type": "code",
   "execution_count": 1063,
   "metadata": {
    "collapsed": false
   },
   "outputs": [
    {
     "data": {
      "text/html": [
       "<div>\n",
       "<table border=\"1\" class=\"dataframe\">\n",
       "  <thead>\n",
       "    <tr style=\"text-align: right;\">\n",
       "      <th></th>\n",
       "      <th>0</th>\n",
       "    </tr>\n",
       "  </thead>\n",
       "  <tbody>\n",
       "    <tr>\n",
       "      <th>0</th>\n",
       "      <td>100</td>\n",
       "    </tr>\n",
       "    <tr>\n",
       "      <th>1</th>\n",
       "      <td>100</td>\n",
       "    </tr>\n",
       "    <tr>\n",
       "      <th>2</th>\n",
       "      <td>100</td>\n",
       "    </tr>\n",
       "    <tr>\n",
       "      <th>3</th>\n",
       "      <td>-100</td>\n",
       "    </tr>\n",
       "    <tr>\n",
       "      <th>4</th>\n",
       "      <td>-100</td>\n",
       "    </tr>\n",
       "  </tbody>\n",
       "</table>\n",
       "</div>"
      ],
      "text/plain": [
       "     0\n",
       "0  100\n",
       "1  100\n",
       "2  100\n",
       "3 -100\n",
       "4 -100"
      ]
     },
     "execution_count": 1063,
     "metadata": {},
     "output_type": "execute_result"
    }
   ],
   "source": [
    "weights = pd.DataFrame(weights.values())\n",
    "weights.head()"
   ]
  },
  {
   "cell_type": "code",
   "execution_count": 959,
   "metadata": {
    "collapsed": false
   },
   "outputs": [
    {
     "data": {
      "text/plain": [
       "SelectKBest(k=50, score_func=<function f_classif at 0x114242c08>)"
      ]
     },
     "execution_count": 959,
     "metadata": {},
     "output_type": "execute_result"
    }
   ],
   "source": [
    "tfv = TfidfVectorizer(stop_words=text.ENGLISH_STOP_WORDS.union(mine), token_pattern='[a-zA-Z]{3,50}',ngram_range=(1,3),\n",
    "                      min_df=2, max_df=0.1, sublinear_tf=True, vocabulary=)\n",
    "X_sb = tfv.fit_transform(posneg_df['text'])\n",
    "le = LabelEncoder()\n",
    "y = le.fit_transform(posneg_df['airline_sentiment'])\n",
    "\n",
    "sb = SelectKBest(f_classif, k=50)\n",
    "sb.fit(X_sb, y)\n"
   ]
  },
  {
   "cell_type": "code",
   "execution_count": 960,
   "metadata": {
    "collapsed": false
   },
   "outputs": [
    {
     "data": {
      "text/html": [
       "<div>\n",
       "<table border=\"1\" class=\"dataframe\">\n",
       "  <thead>\n",
       "    <tr style=\"text-align: right;\">\n",
       "      <th></th>\n",
       "      <th>0</th>\n",
       "    </tr>\n",
       "  </thead>\n",
       "  <tbody>\n",
       "    <tr>\n",
       "      <th>0</th>\n",
       "      <td>told</td>\n",
       "    </tr>\n",
       "    <tr>\n",
       "      <th>1</th>\n",
       "      <td>luggage</td>\n",
       "    </tr>\n",
       "    <tr>\n",
       "      <th>2</th>\n",
       "      <td>phone</td>\n",
       "    </tr>\n",
       "    <tr>\n",
       "      <th>3</th>\n",
       "      <td>hold</td>\n",
       "    </tr>\n",
       "    <tr>\n",
       "      <th>4</th>\n",
       "      <td>appreciate</td>\n",
       "    </tr>\n",
       "  </tbody>\n",
       "</table>\n",
       "</div>"
      ],
      "text/plain": [
       "            0\n",
       "0        told\n",
       "1     luggage\n",
       "2       phone\n",
       "3        hold\n",
       "4  appreciate"
      ]
     },
     "execution_count": 960,
     "metadata": {},
     "output_type": "execute_result"
    }
   ],
   "source": [
    "mask = sb.get_support()\n",
    "\n",
    "imp = pd.DataFrame(np.asarray(tfv.get_feature_names())[mask])\n",
    "imp.head()"
   ]
  },
  {
   "cell_type": "code",
   "execution_count": 963,
   "metadata": {
    "collapsed": false
   },
   "outputs": [],
   "source": [
    "tfv = TfidfVectorizer(stop_words=text.ENGLISH_STOP_WORDS.union(mine), token_pattern='[a-zA-Z]{3,50}',\n",
    "                      ngram_range=(1,2), vocabulary=imp[0])\n",
    "X = tfv.fit_transform(posneg_df['text'])\n",
    "X_dense = pd.DataFrame(X.todense())\n",
    "voc = tfv.vocabulary_\n",
    "X_dense.columns = voc\n"
   ]
  },
  {
   "cell_type": "code",
   "execution_count": 964,
   "metadata": {
    "collapsed": false
   },
   "outputs": [
    {
     "name": "stdout",
     "output_type": "stream",
     "text": [
      "10 most common words\n"
     ]
    },
    {
     "data": {
      "text/plain": [
       "[(u'don', 615.12965680300624),\n",
       " (u'waiting', 553.45240353602344),\n",
       " (u'amazing', 485.63089634517456),\n",
       " (u'flightr', 366.03325100907892),\n",
       " (u'delay', 268.92256238430826),\n",
       " (u'luggage', 178.92719458695473),\n",
       " (u'good', 158.07227604656788),\n",
       " (u'jetblue thanks', 151.43676145501226),\n",
       " (u'worst', 139.56506485474478),\n",
       " (u'hrs', 126.22795964082178)]"
      ]
     },
     "execution_count": 964,
     "metadata": {},
     "output_type": "execute_result"
    }
   ],
   "source": [
    "from operator import itemgetter\n",
    "dicty = {}\n",
    "for i in X_dense:\n",
    "    dicty[i] = sum(X_dense[i])\n",
    "print '10 most common words'\n",
    "sorted(dicty.items(), key=itemgetter(1), reverse=True)[:10]"
   ]
  },
  {
   "cell_type": "code",
   "execution_count": 968,
   "metadata": {
    "collapsed": true
   },
   "outputs": [],
   "source": [
    "trunc = TruncatedSVD(n_components=35)\n",
    "\n",
    "truncy = pd.DataFrame(trunc.fit_transform(X))"
   ]
  },
  {
   "cell_type": "code",
   "execution_count": 969,
   "metadata": {
    "collapsed": false
   },
   "outputs": [
    {
     "data": {
      "text/html": [
       "<div>\n",
       "<table border=\"1\" class=\"dataframe\">\n",
       "  <thead>\n",
       "    <tr style=\"text-align: right;\">\n",
       "      <th></th>\n",
       "      <th>0</th>\n",
       "    </tr>\n",
       "  </thead>\n",
       "  <tbody>\n",
       "    <tr>\n",
       "      <th>0</th>\n",
       "      <td>0.068791</td>\n",
       "    </tr>\n",
       "    <tr>\n",
       "      <th>1</th>\n",
       "      <td>0.097183</td>\n",
       "    </tr>\n",
       "    <tr>\n",
       "      <th>2</th>\n",
       "      <td>0.092544</td>\n",
       "    </tr>\n",
       "    <tr>\n",
       "      <th>3</th>\n",
       "      <td>0.075456</td>\n",
       "    </tr>\n",
       "    <tr>\n",
       "      <th>4</th>\n",
       "      <td>0.052738</td>\n",
       "    </tr>\n",
       "    <tr>\n",
       "      <th>5</th>\n",
       "      <td>0.034748</td>\n",
       "    </tr>\n",
       "    <tr>\n",
       "      <th>6</th>\n",
       "      <td>0.029130</td>\n",
       "    </tr>\n",
       "    <tr>\n",
       "      <th>7</th>\n",
       "      <td>0.030255</td>\n",
       "    </tr>\n",
       "    <tr>\n",
       "      <th>8</th>\n",
       "      <td>0.026361</td>\n",
       "    </tr>\n",
       "    <tr>\n",
       "      <th>9</th>\n",
       "      <td>0.026126</td>\n",
       "    </tr>\n",
       "  </tbody>\n",
       "</table>\n",
       "</div>"
      ],
      "text/plain": [
       "          0\n",
       "0  0.068791\n",
       "1  0.097183\n",
       "2  0.092544\n",
       "3  0.075456\n",
       "4  0.052738\n",
       "5  0.034748\n",
       "6  0.029130\n",
       "7  0.030255\n",
       "8  0.026361\n",
       "9  0.026126"
      ]
     },
     "execution_count": 969,
     "metadata": {},
     "output_type": "execute_result"
    }
   ],
   "source": [
    "import numpy as np\n",
    "pd.DataFrame(trunc.explained_variance_ratio_)[:10]"
   ]
  },
  {
   "cell_type": "code",
   "execution_count": 970,
   "metadata": {
    "collapsed": false
   },
   "outputs": [
    {
     "data": {
      "text/plain": [
       "[<matplotlib.lines.Line2D at 0x14a8d1350>]"
      ]
     },
     "execution_count": 970,
     "metadata": {},
     "output_type": "execute_result"
    },
    {
     "data": {
      "image/png": "[encoded data removed]",
      "text/plain": [
       "<matplotlib.figure.Figure at 0x21c0ecc90>"
      ]
     },
     "metadata": {},
     "output_type": "display_data"
    }
   ],
   "source": [
    "plt.plot(np.cumsum(trunc.explained_variance_ratio_))"
   ]
  },
  {
   "cell_type": "code",
   "execution_count": 1064,
   "metadata": {
    "collapsed": true
   },
   "outputs": [],
   "source": [
    "km = AgglomerativeClustering(n_clusters=2)\n",
    "km.fit(weights)\n",
    "labels = pd.DataFrame(km.labels_)\n",
    "\n",
    "km2 = KMeans(n_clusters=2, init='k-means++', max_iter=100, n_init=30)\n",
    "km2.fit(weights)\n",
    "labels2 = pd.DataFrame(km2.labels_)\n"
   ]
  },
  {
   "cell_type": "code",
   "execution_count": 1065,
   "metadata": {
    "collapsed": false
   },
   "outputs": [
    {
     "name": "stdout",
     "output_type": "stream",
     "text": [
      "             precision    recall  f1-score   support\n",
      "\n",
      "          0       0.67      0.94      0.78      3069\n",
      "          1       0.82      0.39      0.53      2363\n",
      "\n",
      "avg / total       0.73      0.70      0.67      5432\n",
      "\n",
      "[[2872  197]\n",
      " [1440  923]]\n",
      "Homogeneity Score: 0.121465660385\n",
      "Rand: 0.152785493827\n"
     ]
    }
   ],
   "source": [
    "y_pred = np.choose(labels, [1,0])\n",
    "\n",
    "print classification_report(y, y_pred)\n",
    "print confusion_matrix(y, y_pred)\n",
    "print 'Homogeneity Score:', homogeneity_score(y, y_pred[0])\n",
    "print 'Rand:', adjusted_rand_score(y, y_pred[0])"
   ]
  },
  {
   "cell_type": "code",
   "execution_count": 1066,
   "metadata": {
    "collapsed": false
   },
   "outputs": [
    {
     "name": "stdout",
     "output_type": "stream",
     "text": [
      "             precision    recall  f1-score   support\n",
      "\n",
      "          0       0.67      0.94      0.78      3069\n",
      "          1       0.82      0.39      0.53      2363\n",
      "\n",
      "avg / total       0.73      0.70      0.67      5432\n",
      "\n",
      "[[2872  197]\n",
      " [1440  923]]\n",
      "Homogeneity Score: 0.121465660385\n",
      "Rand: 0.152785493827\n"
     ]
    }
   ],
   "source": [
    "y_pred2 = np.choose(labels2, [1,0])\n",
    "print classification_report(y, y_pred2)\n",
    "print confusion_matrix(y, y_pred2)\n",
    "print 'Homogeneity Score:', homogeneity_score(y, y_pred2[0])\n",
    "print 'Rand:', adjusted_rand_score(y, y_pred2[0])"
   ]
  },
  {
   "cell_type": "code",
   "execution_count": null,
   "metadata": {
    "collapsed": true
   },
   "outputs": [],
   "source": []
  }
 ],
 "metadata": {
  "anaconda-cloud": {},
  "kernelspec": {
   "display_name": "Python [Root]",
   "language": "python",
   "name": "Python [Root]"
  },
  "language_info": {
   "codemirror_mode": {
    "name": "ipython",
    "version": 2
   },
   "file_extension": ".py",
   "mimetype": "text/x-python",
   "name": "python",
   "nbconvert_exporter": "python",
   "pygments_lexer": "ipython2",
   "version": "2.7.12"
  }
 },
 "nbformat": 4,
 "nbformat_minor": 0
}
